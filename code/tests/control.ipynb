{
 "cells": [
  {
   "cell_type": "code",
   "execution_count": 6,
   "metadata": {},
   "outputs": [],
   "source": [
    "import sys\n",
    "sys.path.append('../')\n",
    "from control import pure_pursuit"
   ]
  },
  {
   "cell_type": "code",
   "execution_count": 9,
   "metadata": {},
   "outputs": [],
   "source": [
    "import numpy as np\n",
    "from vehicle import Vehicle\n",
    "from track import Track\n",
    "from simulation import Simulation, show_img"
   ]
  },
  {
   "cell_type": "code",
   "execution_count": 11,
   "metadata": {},
   "outputs": [
    {
     "name": "stdout",
     "output_type": "stream",
     "text": [
      "Choose visualization option\n"
     ]
    },
    {
     "data": {
      "application/vnd.jupyter.widget-view+json": {
       "model_id": "77d3013a9c314a6fa857c8a04c9a0da4",
       "version_major": 2,
       "version_minor": 0
      },
      "text/plain": [
       "RadioButtons(options=('None', 'offline', 'online'), value='None')"
      ]
     },
     "metadata": {},
     "output_type": "display_data"
    }
   ],
   "source": [
    "from ipywidgets import RadioButtons\n",
    "print(\"Choose visualization option\")\n",
    "viz = RadioButtons(options=['None', 'offline', 'online'],\n",
    "                   value = 'None', # default value   \n",
    "                   description='', disabled=False)\n",
    "display(viz)"
   ]
  },
  {
   "cell_type": "code",
   "execution_count": 13,
   "metadata": {},
   "outputs": [
    {
     "ename": "TypeError",
     "evalue": "__init__() missing 1 required positional argument: 'waypoints'",
     "output_type": "error",
     "traceback": [
      "\u001b[0;31m---------------------------------------------------------------------------\u001b[0m",
      "\u001b[0;31mTypeError\u001b[0m                                 Traceback (most recent call last)",
      "Cell \u001b[0;32mIn[13], line 5\u001b[0m\n\u001b[1;32m      3\u001b[0m \u001b[39m# TODO: Tune your PID here\u001b[39;00m\n\u001b[1;32m      4\u001b[0m Kp, Ki, Kd \u001b[39m=\u001b[39m \u001b[39m3\u001b[39m,\u001b[39m0\u001b[39m,\u001b[39m0\u001b[39m\n\u001b[0;32m----> 5\u001b[0m pp \u001b[39m=\u001b[39m pure_pursuit\u001b[39m.\u001b[39;49mPurePursuit(wheel_base\u001b[39m=\u001b[39;49mwheel_base, waypoint_shift\u001b[39m=\u001b[39;49m\u001b[39m0\u001b[39;49m)\n\u001b[1;32m      6\u001b[0m \u001b[39m#pid = pure_pursuit.PIDController(Kp, Ki, Kd, 0)\u001b[39;00m\n\u001b[1;32m      7\u001b[0m \u001b[39m#controller = pure_pursuit.PurePursuitPlusPID(pure_pursuit=pp, pid=pid)\u001b[39;00m\n\u001b[1;32m      8\u001b[0m vehicle \u001b[39m=\u001b[39m Vehicle(wheel_base\u001b[39m=\u001b[39mwheel_base)\n",
      "\u001b[0;31mTypeError\u001b[0m: __init__() missing 1 required positional argument: 'waypoints'"
     ]
    }
   ],
   "source": [
    "# set up simulation\n",
    "wheel_base = 2.65\n",
    "# TODO: Tune your PID here\n",
    "Kp, Ki, Kd = 3,0,0\n",
    "pp = pure_pursuit.PurePursuit(wheel_base=wheel_base, waypoint_shift=0)\n",
    "#pid = pure_pursuit.PIDController(Kp, Ki, Kd, 0)\n",
    "#controller = pure_pursuit.PurePursuitPlusPID(pure_pursuit=pp, pid=pid)\n",
    "vehicle = Vehicle(wheel_base=wheel_base)\n",
    "sim = Simulation(vehicle, Track(), pp)"
   ]
  },
  {
   "cell_type": "code",
   "execution_count": null,
   "metadata": {},
   "outputs": [],
   "source": []
  }
 ],
 "metadata": {
  "kernelspec": {
   "display_name": "CEPlatform-9coHjUDv",
   "language": "python",
   "name": "python3"
  },
  "language_info": {
   "codemirror_mode": {
    "name": "ipython",
    "version": 3
   },
   "file_extension": ".py",
   "mimetype": "text/x-python",
   "name": "python",
   "nbconvert_exporter": "python",
   "pygments_lexer": "ipython3",
   "version": "3.8.10"
  },
  "orig_nbformat": 4,
  "vscode": {
   "interpreter": {
    "hash": "c741232ddc199d459755fa23f113b3734c78f23e63903f205e184d2cf6a0f3a2"
   }
  }
 },
 "nbformat": 4,
 "nbformat_minor": 2
}
