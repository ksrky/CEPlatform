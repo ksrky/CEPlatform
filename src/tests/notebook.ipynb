{
 "cells": [
  {
   "cell_type": "code",
   "execution_count": null,
   "metadata": {},
   "outputs": [],
   "source": [
    "import sys\n",
    "sys.path.append('../../')\n",
    "sys.path.append('../common')"
   ]
  },
  {
   "cell_type": "code",
   "execution_count": null,
   "metadata": {},
   "outputs": [],
   "source": [
    "from controller import Controller\n",
    "from control.pure_pursuit import PurePursuit\n",
    "from control.PID import PID \n",
    "from vehicle import Vehicle\n",
    "from track import Track\n",
    "from simulation import Simulation, show_img\n",
    "\n",
    "vehicle = Vehicle(x=0, y=0, velocity=0, heading=0, wheel_base=2.6)\n",
    "track = Track()\n",
    "controller = Controller()"
   ]
  },
  {
   "cell_type": "code",
   "execution_count": 3,
   "metadata": {},
   "outputs": [
    {
     "name": "stdout",
     "output_type": "stream",
     "text": [
      "軌道追従アルゴリズムを選択\n"
     ]
    },
    {
     "data": {
      "application/vnd.jupyter.widget-view+json": {
       "model_id": "781972b4808d40ed8f11d0b8fbf4da78",
       "version_major": 2,
       "version_minor": 0
      },
      "text/plain": [
       "RadioButtons(options=('PID', 'PurePursuit'), value='PID')"
      ]
     },
     "metadata": {},
     "output_type": "display_data"
    },
    {
     "name": "stdout",
     "output_type": "stream",
     "text": [
      "速度制御アルゴリズムを選択\n"
     ]
    },
    {
     "data": {
      "application/vnd.jupyter.widget-view+json": {
       "model_id": "64ab274248544f549df294a38b773795",
       "version_major": 2,
       "version_minor": 0
      },
      "text/plain": [
       "RadioButtons(index=1, options=('なし（速度一定）', 'PID'), value='PID')"
      ]
     },
     "metadata": {},
     "output_type": "display_data"
    }
   ],
   "source": [
    "from ipywidgets import RadioButtons\n",
    "posctl = RadioButtons(options=['PID', 'PurePursuit'],\n",
    "                   value = 'PID',   \n",
    "                   description='', disabled=False)\n",
    "velctl = RadioButtons(options=['なし（速度一定）', 'PID'],\n",
    "                   value = 'PID',   \n",
    "                   description='', disabled=False)\n",
    "\n",
    "print(\"軌道追従アルゴリズムを選択\")\n",
    "display(posctl)\n",
    "print(\"速度制御アルゴリズムを選択\")\n",
    "display(velctl)"
   ]
  },
  {
   "cell_type": "code",
   "execution_count": 4,
   "metadata": {},
   "outputs": [],
   "source": [
    "from ipywidgets import FloatSlider\n",
    "\n",
    "Kp, Ki, Kd, Kdd = None, None, None, None\n",
    "\n",
    "def ask_PID_parameters():\n",
    "        Kp = FloatSlider(value=3, min=0, max=10.0, step=0.1, description='Kp=', readout_format='.1f',)\n",
    "        Ki = FloatSlider(value=0, min=0, max=10.0, step=0.1, description='Ki=', readout_format='.1f',)\n",
    "        Kd = FloatSlider(value=0, min=0, max=10.0, step=0.1, description='Kd=', readout_format='.1f',)\n",
    "        display(Kp)\n",
    "        display(Ki)\n",
    "        display(Kd)\n",
    "\n",
    "def ask_PurePursuit_parameters():\n",
    "        Kdd = FloatSlider(value=3, min=0, max=10.0, step=0.1, description='Kdd=', readout_format='.1f',)\n",
    "        display(Kdd)"
   ]
  },
  {
   "cell_type": "code",
   "execution_count": 5,
   "metadata": {},
   "outputs": [
    {
     "name": "stdout",
     "output_type": "stream",
     "text": [
      "軌道追従アルゴリズム(PID)のパラメータを設定\n"
     ]
    },
    {
     "data": {
      "application/vnd.jupyter.widget-view+json": {
       "model_id": "a944232371614bb1bd3a18f5d245bfa3",
       "version_major": 2,
       "version_minor": 0
      },
      "text/plain": [
       "FloatSlider(value=3.0, description='Kp=', max=10.0, readout_format='.1f')"
      ]
     },
     "metadata": {},
     "output_type": "display_data"
    },
    {
     "data": {
      "application/vnd.jupyter.widget-view+json": {
       "model_id": "3b7be4c24574432d8d7863c1a5539dca",
       "version_major": 2,
       "version_minor": 0
      },
      "text/plain": [
       "FloatSlider(value=0.0, description='Ki=', max=10.0, readout_format='.1f')"
      ]
     },
     "metadata": {},
     "output_type": "display_data"
    },
    {
     "data": {
      "application/vnd.jupyter.widget-view+json": {
       "model_id": "9fefbf6c0dd04e11989874fdb0d145a6",
       "version_major": 2,
       "version_minor": 0
      },
      "text/plain": [
       "FloatSlider(value=0.0, description='Kd=', max=10.0, readout_format='.1f')"
      ]
     },
     "metadata": {},
     "output_type": "display_data"
    }
   ],
   "source": [
    "if posctl.value == 'PID':\n",
    "        print(\"軌道追従アルゴリズム(PID)のパラメータを設定\")\n",
    "        ask_PID_parameters()\n",
    "        controller.set_handle_controller(PID(Kp=Kp.value, Ki=Ki.value, Kd=Kd.value, set_point=0))\n",
    "elif posctl.value == 'PurePursuit':\n",
    "        print(\"軌道追従アルゴリズム(PurePursuit)のパラメータを設定\")\n",
    "        ask_PurePursuit_parameters()\n",
    "        controller.set_handle_controller(PurePursuit(Kdd=Kdd.value))"
   ]
  },
  {
   "cell_type": "code",
   "execution_count": 7,
   "metadata": {},
   "outputs": [
    {
     "name": "stdout",
     "output_type": "stream",
     "text": [
      "速度制御アルゴリズム(速度一定)のパラメータを設定\n"
     ]
    },
    {
     "data": {
      "application/vnd.jupyter.widget-view+json": {
       "model_id": "d2f69d16bdd647f88df1da3f0d2d8597",
       "version_major": 2,
       "version_minor": 0
      },
      "text/plain": [
       "FloatSlider(value=25.0, description='目標速度=', max=30.0, readout_format='.1f')"
      ]
     },
     "metadata": {},
     "output_type": "display_data"
    }
   ],
   "source": [
    "if posctl.value == 'PID':\n",
    "        print(\"速度制御アルゴリズム(速度一定)のパラメータを設定\")\n",
    "        desired_velocity = FloatSlider(value=25, min=0, max=30.0, step=0.1, description='目標速度=', readout_format='.1f',)\n",
    "        display(desired_velocity)\n",
    "elif posctl.value == 'PurePursuit':\n",
    "        print(\"軌道追従アルゴリズム(PID)のパラメータを設定\")\n",
    "        desired_velocity = FloatSlider(value=25, min=0, max=30.0, step=0.1, description='目標速度=', readout_format='.1f',)\n",
    "        display(desired_velocity)\n",
    "        ask_PID_parameters()\n",
    "        controller.set_handle_controller(PID(Kp=Kp.value, Ki=Ki.value, Kd=Kd.value, set_point=desired_velocity))"
   ]
  },
  {
   "cell_type": "code",
   "execution_count": null,
   "metadata": {},
   "outputs": [],
   "source": [
    "from IPython.display import clear_output\n",
    "\n",
    "sim = Simulation(vehicle, Track(), controller)\n",
    "\n",
    "img_list = []\n",
    "for i in range(1,1000):\n",
    "    try:\n",
    "        sim.step()\n",
    "        # visualization\n",
    "        img = sim.cv_plot()\n",
    "        if i%2==0:\n",
    "          img_list.append(img)\n",
    "          show_img(img)\n",
    "        clear_output(wait=True)\n",
    "        # check for simulation end\n",
    "        if len(sim.waypoints) < 10:\n",
    "            break\n",
    "\n",
    "    except KeyboardInterrupt:\n",
    "        break"
   ]
  }
 ],
 "metadata": {
  "kernelspec": {
   "display_name": "CEPlatform-9coHjUDv",
   "language": "python",
   "name": "python3"
  },
  "language_info": {
   "codemirror_mode": {
    "name": "ipython",
    "version": 3
   },
   "file_extension": ".py",
   "mimetype": "text/x-python",
   "name": "python",
   "nbconvert_exporter": "python",
   "pygments_lexer": "ipython3",
   "version": "3.8.10"
  },
  "orig_nbformat": 4,
  "vscode": {
   "interpreter": {
    "hash": "c741232ddc199d459755fa23f113b3734c78f23e63903f205e184d2cf6a0f3a2"
   }
  }
 },
 "nbformat": 4,
 "nbformat_minor": 2
}
